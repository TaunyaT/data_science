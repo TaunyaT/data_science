{
 "cells": [
  {
   "cell_type": "code",
   "execution_count": 3,
   "metadata": {},
   "outputs": [],
   "source": [
    "import pandas as pd\n",
    "import gurobipy as gb\n",
    "from gurobipy import GRB\n",
    "import matplotlib.pyplot as plt"
   ]
  },
  {
   "cell_type": "code",
   "execution_count": 4,
   "metadata": {},
   "outputs": [
    {
     "data": {
      "text/html": [
       "<div>\n",
       "<style scoped>\n",
       "    .dataframe tbody tr th:only-of-type {\n",
       "        vertical-align: middle;\n",
       "    }\n",
       "\n",
       "    .dataframe tbody tr th {\n",
       "        vertical-align: top;\n",
       "    }\n",
       "\n",
       "    .dataframe thead th {\n",
       "        text-align: right;\n",
       "    }\n",
       "</style>\n",
       "<table border=\"1\" class=\"dataframe\">\n",
       "  <thead>\n",
       "    <tr style=\"text-align: right;\">\n",
       "      <th></th>\n",
       "      <th>Room_ID</th>\n",
       "      <th>Floor</th>\n",
       "      <th>Square_Feet</th>\n",
       "      <th>Cleaning_Time_Hours</th>\n",
       "    </tr>\n",
       "  </thead>\n",
       "  <tbody>\n",
       "    <tr>\n",
       "      <th>0</th>\n",
       "      <td>1</td>\n",
       "      <td>3</td>\n",
       "      <td>682</td>\n",
       "      <td>1.814545</td>\n",
       "    </tr>\n",
       "    <tr>\n",
       "      <th>1</th>\n",
       "      <td>2</td>\n",
       "      <td>9</td>\n",
       "      <td>223</td>\n",
       "      <td>0.562727</td>\n",
       "    </tr>\n",
       "    <tr>\n",
       "      <th>2</th>\n",
       "      <td>3</td>\n",
       "      <td>7</td>\n",
       "      <td>506</td>\n",
       "      <td>1.334545</td>\n",
       "    </tr>\n",
       "    <tr>\n",
       "      <th>3</th>\n",
       "      <td>4</td>\n",
       "      <td>1</td>\n",
       "      <td>561</td>\n",
       "      <td>1.484545</td>\n",
       "    </tr>\n",
       "    <tr>\n",
       "      <th>4</th>\n",
       "      <td>5</td>\n",
       "      <td>14</td>\n",
       "      <td>424</td>\n",
       "      <td>1.110909</td>\n",
       "    </tr>\n",
       "  </tbody>\n",
       "</table>\n",
       "</div>"
      ],
      "text/plain": [
       "   Room_ID  Floor  Square_Feet  Cleaning_Time_Hours\n",
       "0        1      3          682             1.814545\n",
       "1        2      9          223             0.562727\n",
       "2        3      7          506             1.334545\n",
       "3        4      1          561             1.484545\n",
       "4        5     14          424             1.110909"
      ]
     },
     "execution_count": 4,
     "metadata": {},
     "output_type": "execute_result"
    }
   ],
   "source": [
    "# Load data\n",
    "hotel_data = pd.read_csv('hotels.csv')\n",
    "hotel_data.head()"
   ]
  },
  {
   "cell_type": "code",
   "execution_count": 5,
   "metadata": {},
   "outputs": [],
   "source": [
    "num_rooms = hotel_data.shape[0]\n",
    "num_attendants = 8\n",
    "regular_wage = 25  # hourly wage\n",
    "overtime_wage = 1.5 * regular_wage  # overtime wage (1.5x regular wage)\n",
    "double_overtime_wage = 2 * regular_wage  # alternative scenario\n",
    "max_regular_hours = 8\n",
    "max_overtime_hours = 2\n",
    "max_floors = 4\n",
    "bonus_per_extra_floor = 75\n",
    "max_sq_ft = 3500\n",
    "sq_ft_per_room = 200"
   ]
  },
  {
   "cell_type": "code",
   "execution_count": 6,
   "metadata": {},
   "outputs": [
    {
     "name": "stdout",
     "output_type": "stream",
     "text": [
      "Set parameter Username\n",
      "Set parameter LicenseID to value 2615198\n",
      "Academic license - for non-commercial use only - expires 2026-01-25\n"
     ]
    }
   ],
   "source": [
    "scheduling_model = gb.Model(\"Hotel Worker Scheduling\")"
   ]
  },
  {
   "cell_type": "code",
   "execution_count": 7,
   "metadata": {},
   "outputs": [],
   "source": [
    "# Decision Variables\n",
    "f = scheduling_model.addVars(num_attendants, num_rooms, vtype=GRB.BINARY, name=\"f\")  # Assignment variable\n",
    "fik = scheduling_model.addVars(num_attendants, max_floors, vtype=GRB.BINARY, name=\"fik\")  # Floor assignment variable\n",
    "overtime = scheduling_model.addVars(num_attendants, vtype=GRB.CONTINUOUS, name=\"overtime\")  # Overtime hours\n",
    "extra_pay = scheduling_model.addVars(num_attendants, vtype=GRB.CONTINUOUS, name=\"extra_pay\")  # Extra pay for exceeding sq ft limit"
   ]
  },
  {
   "cell_type": "code",
   "execution_count": 8,
   "metadata": {},
   "outputs": [
    {
     "data": {
      "text/plain": [
       "{0: <gurobi.Constr *Awaiting Model Update*>,\n",
       " 1: <gurobi.Constr *Awaiting Model Update*>,\n",
       " 2: <gurobi.Constr *Awaiting Model Update*>,\n",
       " 3: <gurobi.Constr *Awaiting Model Update*>,\n",
       " 4: <gurobi.Constr *Awaiting Model Update*>,\n",
       " 5: <gurobi.Constr *Awaiting Model Update*>,\n",
       " 6: <gurobi.Constr *Awaiting Model Update*>,\n",
       " 7: <gurobi.Constr *Awaiting Model Update*>,\n",
       " 8: <gurobi.Constr *Awaiting Model Update*>,\n",
       " 9: <gurobi.Constr *Awaiting Model Update*>,\n",
       " 10: <gurobi.Constr *Awaiting Model Update*>,\n",
       " 11: <gurobi.Constr *Awaiting Model Update*>,\n",
       " 12: <gurobi.Constr *Awaiting Model Update*>,\n",
       " 13: <gurobi.Constr *Awaiting Model Update*>,\n",
       " 14: <gurobi.Constr *Awaiting Model Update*>,\n",
       " 15: <gurobi.Constr *Awaiting Model Update*>,\n",
       " 16: <gurobi.Constr *Awaiting Model Update*>,\n",
       " 17: <gurobi.Constr *Awaiting Model Update*>,\n",
       " 18: <gurobi.Constr *Awaiting Model Update*>,\n",
       " 19: <gurobi.Constr *Awaiting Model Update*>,\n",
       " 20: <gurobi.Constr *Awaiting Model Update*>,\n",
       " 21: <gurobi.Constr *Awaiting Model Update*>,\n",
       " 22: <gurobi.Constr *Awaiting Model Update*>,\n",
       " 23: <gurobi.Constr *Awaiting Model Update*>,\n",
       " 24: <gurobi.Constr *Awaiting Model Update*>,\n",
       " 25: <gurobi.Constr *Awaiting Model Update*>,\n",
       " 26: <gurobi.Constr *Awaiting Model Update*>,\n",
       " 27: <gurobi.Constr *Awaiting Model Update*>,\n",
       " 28: <gurobi.Constr *Awaiting Model Update*>,\n",
       " 29: <gurobi.Constr *Awaiting Model Update*>,\n",
       " 30: <gurobi.Constr *Awaiting Model Update*>,\n",
       " 31: <gurobi.Constr *Awaiting Model Update*>,\n",
       " 32: <gurobi.Constr *Awaiting Model Update*>,\n",
       " 33: <gurobi.Constr *Awaiting Model Update*>,\n",
       " 34: <gurobi.Constr *Awaiting Model Update*>,\n",
       " 35: <gurobi.Constr *Awaiting Model Update*>,\n",
       " 36: <gurobi.Constr *Awaiting Model Update*>,\n",
       " 37: <gurobi.Constr *Awaiting Model Update*>,\n",
       " 38: <gurobi.Constr *Awaiting Model Update*>,\n",
       " 39: <gurobi.Constr *Awaiting Model Update*>,\n",
       " 40: <gurobi.Constr *Awaiting Model Update*>,\n",
       " 41: <gurobi.Constr *Awaiting Model Update*>,\n",
       " 42: <gurobi.Constr *Awaiting Model Update*>,\n",
       " 43: <gurobi.Constr *Awaiting Model Update*>,\n",
       " 44: <gurobi.Constr *Awaiting Model Update*>,\n",
       " 45: <gurobi.Constr *Awaiting Model Update*>,\n",
       " 46: <gurobi.Constr *Awaiting Model Update*>,\n",
       " 47: <gurobi.Constr *Awaiting Model Update*>,\n",
       " 48: <gurobi.Constr *Awaiting Model Update*>,\n",
       " 49: <gurobi.Constr *Awaiting Model Update*>,\n",
       " 50: <gurobi.Constr *Awaiting Model Update*>,\n",
       " 51: <gurobi.Constr *Awaiting Model Update*>}"
      ]
     },
     "execution_count": 8,
     "metadata": {},
     "output_type": "execute_result"
    }
   ],
   "source": [
    "# Constraints\n",
    "scheduling_model.addConstrs((gb.quicksum(f[i, k] for i in range(num_attendants)) == 1 for k in range(num_rooms)), name=\"RoomAssignment\")\n"
   ]
  },
  {
   "cell_type": "code",
   "execution_count": 9,
   "metadata": {},
   "outputs": [
    {
     "data": {
      "text/plain": [
       "{0: <gurobi.Constr *Awaiting Model Update*>,\n",
       " 1: <gurobi.Constr *Awaiting Model Update*>,\n",
       " 2: <gurobi.Constr *Awaiting Model Update*>,\n",
       " 3: <gurobi.Constr *Awaiting Model Update*>,\n",
       " 4: <gurobi.Constr *Awaiting Model Update*>,\n",
       " 5: <gurobi.Constr *Awaiting Model Update*>,\n",
       " 6: <gurobi.Constr *Awaiting Model Update*>,\n",
       " 7: <gurobi.Constr *Awaiting Model Update*>}"
      ]
     },
     "execution_count": 9,
     "metadata": {},
     "output_type": "execute_result"
    }
   ],
   "source": [
    "scheduling_model.addConstrs((\n",
    "    gb.quicksum(f[i, k] * hotel_data.iloc[k]['Cleaning_Time_Hours'] for k in range(num_rooms)) <= max_regular_hours + overtime[i] \n",
    "    for i in range(num_attendants)\n",
    "), name=\"WorkLimit\")"
   ]
  },
  {
   "cell_type": "code",
   "execution_count": 10,
   "metadata": {},
   "outputs": [
    {
     "data": {
      "text/plain": [
       "{0: <gurobi.Constr *Awaiting Model Update*>,\n",
       " 1: <gurobi.Constr *Awaiting Model Update*>,\n",
       " 2: <gurobi.Constr *Awaiting Model Update*>,\n",
       " 3: <gurobi.Constr *Awaiting Model Update*>,\n",
       " 4: <gurobi.Constr *Awaiting Model Update*>,\n",
       " 5: <gurobi.Constr *Awaiting Model Update*>,\n",
       " 6: <gurobi.Constr *Awaiting Model Update*>,\n",
       " 7: <gurobi.Constr *Awaiting Model Update*>}"
      ]
     },
     "execution_count": 10,
     "metadata": {},
     "output_type": "execute_result"
    }
   ],
   "source": [
    "scheduling_model.addConstrs((overtime[i] <= max_overtime_hours for i in range(num_attendants)), name=\"OvertimeLimit\")\n"
   ]
  },
  {
   "cell_type": "code",
   "execution_count": 11,
   "metadata": {},
   "outputs": [
    {
     "data": {
      "text/plain": [
       "{(0, 0): <gurobi.Constr *Awaiting Model Update*>,\n",
       " (0, 1): <gurobi.Constr *Awaiting Model Update*>,\n",
       " (0, 2): <gurobi.Constr *Awaiting Model Update*>,\n",
       " (0, 3): <gurobi.Constr *Awaiting Model Update*>,\n",
       " (1, 0): <gurobi.Constr *Awaiting Model Update*>,\n",
       " (1, 1): <gurobi.Constr *Awaiting Model Update*>,\n",
       " (1, 2): <gurobi.Constr *Awaiting Model Update*>,\n",
       " (1, 3): <gurobi.Constr *Awaiting Model Update*>,\n",
       " (2, 0): <gurobi.Constr *Awaiting Model Update*>,\n",
       " (2, 1): <gurobi.Constr *Awaiting Model Update*>,\n",
       " (2, 2): <gurobi.Constr *Awaiting Model Update*>,\n",
       " (2, 3): <gurobi.Constr *Awaiting Model Update*>,\n",
       " (3, 0): <gurobi.Constr *Awaiting Model Update*>,\n",
       " (3, 1): <gurobi.Constr *Awaiting Model Update*>,\n",
       " (3, 2): <gurobi.Constr *Awaiting Model Update*>,\n",
       " (3, 3): <gurobi.Constr *Awaiting Model Update*>,\n",
       " (4, 0): <gurobi.Constr *Awaiting Model Update*>,\n",
       " (4, 1): <gurobi.Constr *Awaiting Model Update*>,\n",
       " (4, 2): <gurobi.Constr *Awaiting Model Update*>,\n",
       " (4, 3): <gurobi.Constr *Awaiting Model Update*>,\n",
       " (5, 0): <gurobi.Constr *Awaiting Model Update*>,\n",
       " (5, 1): <gurobi.Constr *Awaiting Model Update*>,\n",
       " (5, 2): <gurobi.Constr *Awaiting Model Update*>,\n",
       " (5, 3): <gurobi.Constr *Awaiting Model Update*>,\n",
       " (6, 0): <gurobi.Constr *Awaiting Model Update*>,\n",
       " (6, 1): <gurobi.Constr *Awaiting Model Update*>,\n",
       " (6, 2): <gurobi.Constr *Awaiting Model Update*>,\n",
       " (6, 3): <gurobi.Constr *Awaiting Model Update*>,\n",
       " (7, 0): <gurobi.Constr *Awaiting Model Update*>,\n",
       " (7, 1): <gurobi.Constr *Awaiting Model Update*>,\n",
       " (7, 2): <gurobi.Constr *Awaiting Model Update*>,\n",
       " (7, 3): <gurobi.Constr *Awaiting Model Update*>}"
      ]
     },
     "execution_count": 11,
     "metadata": {},
     "output_type": "execute_result"
    }
   ],
   "source": [
    "scheduling_model.addConstrs((\n",
    "    fik[i, k] >= gb.quicksum(f[i, r] for r in range(num_rooms) if hotel_data.iloc[r]['Floor'] == k) / num_rooms\n",
    "    for i in range(num_attendants) for k in range(max_floors)\n",
    "), name=\"FloorAssignment\")"
   ]
  },
  {
   "cell_type": "code",
   "execution_count": 12,
   "metadata": {},
   "outputs": [
    {
     "data": {
      "text/plain": [
       "{0: <gurobi.Constr *Awaiting Model Update*>,\n",
       " 1: <gurobi.Constr *Awaiting Model Update*>,\n",
       " 2: <gurobi.Constr *Awaiting Model Update*>,\n",
       " 3: <gurobi.Constr *Awaiting Model Update*>,\n",
       " 4: <gurobi.Constr *Awaiting Model Update*>,\n",
       " 5: <gurobi.Constr *Awaiting Model Update*>,\n",
       " 6: <gurobi.Constr *Awaiting Model Update*>,\n",
       " 7: <gurobi.Constr *Awaiting Model Update*>}"
      ]
     },
     "execution_count": 12,
     "metadata": {},
     "output_type": "execute_result"
    }
   ],
   "source": [
    "scheduling_model.addConstrs((\n",
    "    gb.quicksum(f[i, k] * hotel_data.iloc[k]['Square_Feet'] for k in range(num_rooms)) <= max_sq_ft + extra_pay[i] \n",
    "    for i in range(num_attendants)\n",
    "), name=\"SquareFootLimit\")"
   ]
  },
  {
   "cell_type": "code",
   "execution_count": 13,
   "metadata": {},
   "outputs": [],
   "source": [
    "# Objective function: minimize cost\n",
    "scheduling_model.setObjective(\n",
    "    gb.quicksum(f[i, k] * hotel_data.iloc[k]['Cleaning_Time_Hours'] * regular_wage for i in range(num_attendants) for k in range(num_rooms)) +\n",
    "    gb.quicksum(overtime[i] * overtime_wage for i in range(num_attendants)) +\n",
    "    gb.quicksum(fik[i, k] * bonus_per_extra_floor for i in range(num_attendants) for k in range(max_floors)) +\n",
    "    gb.quicksum(extra_pay[i] * regular_wage for i in range(num_attendants)),\n",
    "    GRB.MINIMIZE\n",
    ")"
   ]
  },
  {
   "cell_type": "code",
   "execution_count": 14,
   "metadata": {},
   "outputs": [
    {
     "name": "stdout",
     "output_type": "stream",
     "text": [
      "Gurobi Optimizer version 12.0.0 build v12.0.0rc1 (mac64[x86] - Darwin 21.6.0 21H1123)\n",
      "\n",
      "CPU model: Intel(R) Core(TM) i5-5350U CPU @ 1.80GHz\n",
      "Thread count: 2 physical cores, 4 logical processors, using up to 4 threads\n",
      "\n",
      "Optimize a model with 108 rows, 464 columns and 1368 nonzeros\n",
      "Model fingerprint: 0x6c61f3ad\n",
      "Variable types: 16 continuous, 448 integer (448 binary)\n",
      "Coefficient statistics:\n",
      "  Matrix range     [2e-02, 7e+02]\n",
      "  Objective range  [1e+01, 8e+01]\n",
      "  Bounds range     [1e+00, 1e+00]\n",
      "  RHS range        [1e+00, 4e+03]\n",
      "Found heuristic solution: objective 11327.670455\n",
      "Presolve removed 16 rows and 8 columns\n",
      "Presolve time: 0.02s\n",
      "Presolved: 92 rows, 456 columns, 1352 nonzeros\n",
      "Variable types: 8 continuous, 448 integer (440 binary)\n",
      "\n",
      "Root relaxation: objective 1.925852e+03, 131 iterations, 0.00 seconds (0.00 work units)\n",
      "\n",
      "    Nodes    |    Current Node    |     Objective Bounds      |     Work\n",
      " Expl Unexpl |  Obj  Depth IntInf | Incumbent    BestBd   Gap | It/Node Time\n",
      "\n",
      "     0     0 1925.85227    0    4 11327.6705 1925.85227  83.0%     -    0s\n",
      "H    0     0                    1955.8863636 1925.85227  1.54%     -    0s\n",
      "H    0     0                    1951.2500000 1925.85227  1.30%     -    0s\n",
      "H    0     0                    1930.1136364 1925.85227  0.22%     -    0s\n",
      "     0     0 1925.85227    0   10 1930.11364 1925.85227  0.22%     -    0s\n",
      "     0     0 1925.85227    0    9 1930.11364 1925.85227  0.22%     -    0s\n",
      "     0     0 1925.85227    0    5 1930.11364 1925.85227  0.22%     -    0s\n",
      "H    0     0                    1929.8750000 1925.85227  0.21%     -    0s\n",
      "H    0     0                    1929.5000000 1925.85227  0.19%     -    0s\n",
      "H    0     0                    1928.3068182 1925.85227  0.13%     -    0s\n",
      "H    0     0                    1928.1704545 1925.85227  0.12%     -    0s\n",
      "H    0     0                    1927.9659091 1925.85227  0.11%     -    0s\n",
      "H    0     0                    1927.8977273 1925.85227  0.11%     -    0s\n",
      "H    0     0                    1925.8522727 1925.85227  0.00%     -    0s\n",
      "     0     0 1925.85227    0   11 1925.85227 1925.85227  0.00%     -    0s\n",
      "\n",
      "Cutting planes:\n",
      "  Cover: 1\n",
      "  MIR: 6\n",
      "  StrongCG: 1\n",
      "  RLT: 3\n",
      "  Relax-and-lift: 1\n",
      "\n",
      "Explored 1 nodes (518 simplex iterations) in 0.23 seconds (0.02 work units)\n",
      "Thread count was 4 (of 4 available processors)\n",
      "\n",
      "Solution count 10: 1925.85 1927.9 1927.97 ... 1955.89\n",
      "\n",
      "Optimal solution found (tolerance 1.00e-04)\n",
      "Best objective 1.925852272727e+03, best bound 1.925852272727e+03, gap 0.0000%\n",
      "Optimal Cost: 1925.8522727272732\n",
      "Total Overtime Hours: 1.6136363636363642\n",
      "Total Extra Floor Payments: 3.0\n"
     ]
    }
   ],
   "source": [
    "# Solve model\n",
    "scheduling_model.optimize()\n",
    "\n",
    "# Print results\n",
    "print(\"Optimal Cost:\", scheduling_model.objVal)\n",
    "print(\"Total Overtime Hours:\", sum(overtime[i].x for i in range(num_attendants)))\n",
    "print(\"Total Extra Floor Payments:\", sum(fik[i, k].x for i in range(num_attendants) for k in range(max_floors)))\n"
   ]
  },
  {
   "cell_type": "code",
   "execution_count": 15,
   "metadata": {},
   "outputs": [
    {
     "name": "stdout",
     "output_type": "stream",
     "text": [
      "Gurobi Optimizer version 12.0.0 build v12.0.0rc1 (mac64[x86] - Darwin 21.6.0 21H1123)\n",
      "\n",
      "CPU model: Intel(R) Core(TM) i5-5350U CPU @ 1.80GHz\n",
      "Thread count: 2 physical cores, 4 logical processors, using up to 4 threads\n",
      "\n",
      "Optimize a model with 108 rows, 464 columns and 1368 nonzeros\n",
      "Model fingerprint: 0xe7666c46\n",
      "Coefficient statistics:\n",
      "  Matrix range     [2e-02, 7e+02]\n",
      "  Objective range  [1e+01, 8e+01]\n",
      "  Bounds range     [1e+00, 1e+00]\n",
      "  RHS range        [1e+00, 4e+03]\n",
      "Presolve removed 40 rows and 32 columns\n",
      "Presolve time: 0.02s\n",
      "Presolved: 68 rows, 432 columns, 1264 nonzeros\n",
      "\n",
      "Iteration    Objective       Primal Inf.    Dual Inf.      Time\n",
      "       0    1.6518794e+03   7.271449e+02   0.000000e+00      0s\n",
      "      80    1.7123907e+03   0.000000e+00   0.000000e+00      0s\n",
      "\n",
      "Solved in 80 iterations and 0.03 seconds (0.00 work units)\n",
      "Optimal objective  1.712390734e+03\n",
      "Relaxed Optimal Cost: 1712.3907342657342\n"
     ]
    }
   ],
   "source": [
    "# Relaxation Analysis\n",
    "relaxed_model = scheduling_model.relax()\n",
    "relaxed_model.optimize()\n",
    "print(\"Relaxed Optimal Cost:\", relaxed_model.objVal)"
   ]
  },
  {
   "cell_type": "code",
   "execution_count": 16,
   "metadata": {},
   "outputs": [
    {
     "name": "stdout",
     "output_type": "stream",
     "text": [
      "Gurobi Optimizer version 12.0.0 build v12.0.0rc1 (mac64[x86] - Darwin 21.6.0 21H1123)\n",
      "\n",
      "CPU model: Intel(R) Core(TM) i5-5350U CPU @ 1.80GHz\n",
      "Thread count: 2 physical cores, 4 logical processors, using up to 4 threads\n",
      "\n",
      "Optimize a model with 108 rows, 464 columns and 1368 nonzeros\n",
      "Model fingerprint: 0xe7666c46\n",
      "Coefficient statistics:\n",
      "  Matrix range     [2e-02, 7e+02]\n",
      "  Objective range  [1e+01, 8e+01]\n",
      "  Bounds range     [1e+00, 1e+00]\n",
      "  RHS range        [1e+00, 4e+03]\n",
      "Presolve removed 40 rows and 32 columns\n",
      "Presolve time: 0.02s\n",
      "Presolved: 68 rows, 432 columns, 1264 nonzeros\n",
      "\n",
      "Iteration    Objective       Primal Inf.    Dual Inf.      Time\n",
      "       0    1.6518794e+03   7.271449e+02   0.000000e+00      0s\n",
      "      80    1.7123907e+03   0.000000e+00   0.000000e+00      0s\n",
      "\n",
      "Solved in 80 iterations and 0.03 seconds (0.00 work units)\n",
      "Optimal objective  1.712390734e+03\n"
     ]
    },
    {
     "data": {
      "image/png": "[encoded data removed]",
      "text/plain": [
       "<Figure size 640x480 with 1 Axes>"
      ]
     },
     "metadata": {},
     "output_type": "display_data"
    }
   ],
   "source": [
    "# Store results for visualization\n",
    "binary_cost = scheduling_model.objVal\n",
    "binary_overtime = sum(overtime[i].x for i in range(num_attendants))\n",
    "binary_floors = sum(fik[i, k].x for i in range(num_attendants) for k in range(max_floors))\n",
    "\n",
    "# Relaxation Analysis\n",
    "relaxed_model = scheduling_model.relax()\n",
    "relaxed_model.optimize()\n",
    "relaxed_cost = relaxed_model.objVal\n",
    "\n",
    "# Visualization\n",
    "categories = ['Optimal Cost', 'Total Overtime Hours', 'Total Extra Floor Payments']\n",
    "binary_values = [binary_cost, binary_overtime, binary_floors]\n",
    "relaxed_values = [relaxed_cost, binary_overtime, binary_floors]\n",
    "\n",
    "x = range(len(categories))\n",
    "plt.bar(x, binary_values, width=0.4, label='Binary Model', align='center')\n",
    "plt.bar(x, relaxed_values, width=0.4, label='Relaxed Model', align='edge')\n",
    "plt.xticks(x, categories)\n",
    "plt.ylabel('Value')\n",
    "plt.title('Comparison of Binary vs. Relaxed Models')\n",
    "plt.legend()\n",
    "plt.show()"
   ]
  },
  {
   "cell_type": "code",
   "execution_count": 17,
   "metadata": {},
   "outputs": [],
   "source": [
    "# Double overtime scenario\n",
    "scheduling_model.getObjective().clear()\n",
    "scheduling_model.setObjective(\n",
    "    gb.quicksum(f[i, k] * hotel_data.iloc[k]['Cleaning_Time_Hours'] * regular_wage for i in range(num_attendants) for k in range(num_rooms)) +\n",
    "    gb.quicksum(overtime[i] * double_overtime_wage for i in range(num_attendants)) +\n",
    "    gb.quicksum(fik[i, k] * bonus_per_extra_floor for i in range(num_attendants) for k in range(max_floors)) +\n",
    "    gb.quicksum(extra_pay[i] * regular_wage for i in range(num_attendants)),\n",
    "    GRB.MINIMIZE\n",
    ")"
   ]
  },
  {
   "cell_type": "code",
   "execution_count": 18,
   "metadata": {},
   "outputs": [
    {
     "name": "stdout",
     "output_type": "stream",
     "text": [
      "Gurobi Optimizer version 12.0.0 build v12.0.0rc1 (mac64[x86] - Darwin 21.6.0 21H1123)\n",
      "\n",
      "CPU model: Intel(R) Core(TM) i5-5350U CPU @ 1.80GHz\n",
      "Thread count: 2 physical cores, 4 logical processors, using up to 4 threads\n",
      "\n",
      "Optimize a model with 108 rows, 464 columns and 1368 nonzeros\n",
      "Model fingerprint: 0x8565a4d8\n",
      "Variable types: 16 continuous, 448 integer (448 binary)\n",
      "Coefficient statistics:\n",
      "  Matrix range     [2e-02, 7e+02]\n",
      "  Objective range  [1e+01, 8e+01]\n",
      "  Bounds range     [1e+00, 1e+00]\n",
      "  RHS range        [1e+00, 4e+03]\n",
      "\n",
      "MIP start from previous solve produced solution with objective 1946.02 (0.03s)\n",
      "MIP start from previous solve produced solution with objective 1946.02 (0.03s)\n",
      "Loaded MIP start from previous solve with objective 1946.02\n",
      "\n",
      "Presolve removed 16 rows and 8 columns\n",
      "Presolve time: 0.01s\n",
      "Presolved: 92 rows, 456 columns, 1352 nonzeros\n",
      "Variable types: 8 continuous, 448 integer (440 binary)\n",
      "\n",
      "Root relaxation: cutoff, 131 iterations, 0.00 seconds (0.00 work units)\n",
      "\n",
      "    Nodes    |    Current Node    |     Objective Bounds      |     Work\n",
      " Expl Unexpl |  Obj  Depth IntInf | Incumbent    BestBd   Gap | It/Node Time\n",
      "\n",
      "     0     0     cutoff    0      1946.02273 1946.02273  0.00%     -    0s\n",
      "\n",
      "Explored 1 nodes (131 simplex iterations) in 0.09 seconds (0.00 work units)\n",
      "Thread count was 4 (of 4 available processors)\n",
      "\n",
      "Solution count 1: 1946.02 \n",
      "\n",
      "Optimal solution found (tolerance 1.00e-04)\n",
      "Best objective 1.946022727273e+03, best bound 1.946022727273e+03, gap 0.0000%\n",
      "Optimal Cost (Double Overtime): 1946.0227272727277\n"
     ]
    }
   ],
   "source": [
    "scheduling_model.optimize()\n",
    "print(\"Optimal Cost (Double Overtime):\", scheduling_model.objVal)\n"
   ]
  },
  {
   "cell_type": "code",
   "execution_count": 19,
   "metadata": {},
   "outputs": [
    {
     "name": "stdout",
     "output_type": "stream",
     "text": [
      "Gurobi Optimizer version 12.0.0 build v12.0.0rc1 (mac64[x86] - Darwin 21.6.0 21H1123)\n",
      "\n",
      "CPU model: Intel(R) Core(TM) i5-5350U CPU @ 1.80GHz\n",
      "Thread count: 2 physical cores, 4 logical processors, using up to 4 threads\n",
      "\n",
      "Optimize a model with 108 rows, 464 columns and 1368 nonzeros\n",
      "Model fingerprint: 0xf07cf369\n",
      "Coefficient statistics:\n",
      "  Matrix range     [2e-02, 7e+02]\n",
      "  Objective range  [1e+01, 8e+01]\n",
      "  Bounds range     [1e+00, 1e+00]\n",
      "  RHS range        [1e+00, 4e+03]\n",
      "Presolve removed 40 rows and 32 columns\n",
      "Presolve time: 0.02s\n",
      "Presolved: 68 rows, 432 columns, 1264 nonzeros\n",
      "\n",
      "Iteration    Objective       Primal Inf.    Dual Inf.      Time\n",
      "       0    1.6518794e+03   7.271449e+02   0.000000e+00      0s\n",
      "      80    1.7325612e+03   0.000000e+00   0.000000e+00      0s\n",
      "\n",
      "Solved in 80 iterations and 0.04 seconds (0.00 work units)\n",
      "Optimal objective  1.732561189e+03\n",
      "Relaxed Optimal Cost (Double Overtime): 1732.5611888111885\n"
     ]
    }
   ],
   "source": [
    "# Double overtime relaxation\n",
    "relaxed_model = scheduling_model.relax()\n",
    "relaxed_model.optimize()\n",
    "print(\"Relaxed Optimal Cost (Double Overtime):\", relaxed_model.objVal)  "
   ]
  },
  {
   "cell_type": "code",
   "execution_count": null,
   "metadata": {},
   "outputs": [],
   "source": []
  }
 ],
 "metadata": {
  "kernelspec": {
   "display_name": "Python 3",
   "language": "python",
   "name": "python3"
  },
  "language_info": {
   "codemirror_mode": {
    "name": "ipython",
    "version": 3
   },
   "file_extension": ".py",
   "mimetype": "text/x-python",
   "name": "python",
   "nbconvert_exporter": "python",
   "pygments_lexer": "ipython3",
   "version": "3.12.3"
  }
 },
 "nbformat": 4,
 "nbformat_minor": 2
}
