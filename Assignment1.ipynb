{
 "cells": [
  {
   "cell_type": "code",
   "execution_count": 1,
   "metadata": {},
   "outputs": [],
   "source": [
    "# load modules\n",
    "import pandas as pd\n",
    "import numpy as np\n",
    "import matplotlib.pyplot as plt\n",
    "%matplotlib inline\n",
    "import seaborn as sns"
   ]
  },
  {
   "cell_type": "code",
   "execution_count": 2,
   "metadata": {},
   "outputs": [],
   "source": [
    "# setting seaborn default for plots (load seaborn's default theme & color scheme)\n",
    "sns.set()"
   ]
  },
  {
   "cell_type": "code",
   "execution_count": 11,
   "metadata": {},
   "outputs": [],
   "source": [
    "# load data set\n",
    "df = pd.read_csv('https://raw.githubusercontent.com/delinai/schulich_ds1_2024/main/Datasets/Assignment1_StreamFlow_Subscription_Data.csv')"
   ]
  },
  {
   "cell_type": "code",
   "execution_count": 12,
   "metadata": {},
   "outputs": [
    {
     "data": {
      "text/html": [
       "<div>\n",
       "<style scoped>\n",
       "    .dataframe tbody tr th:only-of-type {\n",
       "        vertical-align: middle;\n",
       "    }\n",
       "\n",
       "    .dataframe tbody tr th {\n",
       "        vertical-align: top;\n",
       "    }\n",
       "\n",
       "    .dataframe thead th {\n",
       "        text-align: right;\n",
       "    }\n",
       "</style>\n",
       "<table border=\"1\" class=\"dataframe\">\n",
       "  <thead>\n",
       "    <tr style=\"text-align: right;\">\n",
       "      <th></th>\n",
       "      <th>User_ID</th>\n",
       "      <th>Age</th>\n",
       "      <th>Gender</th>\n",
       "      <th>Location</th>\n",
       "      <th>Subscription_Start_Date</th>\n",
       "      <th>Subscription_Type</th>\n",
       "      <th>Monthly_Payment</th>\n",
       "      <th>Payment_Method</th>\n",
       "      <th>Monthly_Hours_Watched</th>\n",
       "      <th>Favorite_Genre</th>\n",
       "      <th>Devices_Used</th>\n",
       "      <th>Average_Session_Length</th>\n",
       "      <th>Content_ID</th>\n",
       "      <th>Rating_Given</th>\n",
       "      <th>Churned</th>\n",
       "      <th>Date_of_Churn</th>\n",
       "      <th>Reason_for_Churn</th>\n",
       "    </tr>\n",
       "  </thead>\n",
       "  <tbody>\n",
       "    <tr>\n",
       "      <th>0</th>\n",
       "      <td>1</td>\n",
       "      <td>56</td>\n",
       "      <td>Other</td>\n",
       "      <td>Central</td>\n",
       "      <td>2020-06-07 01:53:37.656934</td>\n",
       "      <td>Premium</td>\n",
       "      <td>19.99</td>\n",
       "      <td>Credit Card</td>\n",
       "      <td>31.513153</td>\n",
       "      <td>Action</td>\n",
       "      <td>PC</td>\n",
       "      <td>1.195762</td>\n",
       "      <td>1023</td>\n",
       "      <td>5</td>\n",
       "      <td>0</td>\n",
       "      <td>NaN</td>\n",
       "      <td>NaN</td>\n",
       "    </tr>\n",
       "    <tr>\n",
       "      <th>1</th>\n",
       "      <td>2</td>\n",
       "      <td>69</td>\n",
       "      <td>Other</td>\n",
       "      <td>West</td>\n",
       "      <td>2024-02-21 01:53:37.656980</td>\n",
       "      <td>Standard</td>\n",
       "      <td>14.99</td>\n",
       "      <td>Credit Card</td>\n",
       "      <td>4.982277</td>\n",
       "      <td>Drama</td>\n",
       "      <td>PC</td>\n",
       "      <td>0.809002</td>\n",
       "      <td>1076</td>\n",
       "      <td>1</td>\n",
       "      <td>0</td>\n",
       "      <td>NaN</td>\n",
       "      <td>NaN</td>\n",
       "    </tr>\n",
       "    <tr>\n",
       "      <th>2</th>\n",
       "      <td>3</td>\n",
       "      <td>46</td>\n",
       "      <td>Female</td>\n",
       "      <td>North</td>\n",
       "      <td>2022-10-06 01:53:37.656995</td>\n",
       "      <td>Standard</td>\n",
       "      <td>14.99</td>\n",
       "      <td>PayPal</td>\n",
       "      <td>4.114953</td>\n",
       "      <td>Sci-Fi</td>\n",
       "      <td>Tablet</td>\n",
       "      <td>1.153570</td>\n",
       "      <td>1095</td>\n",
       "      <td>2</td>\n",
       "      <td>0</td>\n",
       "      <td>NaN</td>\n",
       "      <td>NaN</td>\n",
       "    </tr>\n",
       "    <tr>\n",
       "      <th>3</th>\n",
       "      <td>4</td>\n",
       "      <td>32</td>\n",
       "      <td>Female</td>\n",
       "      <td>East</td>\n",
       "      <td>2022-01-04 01:53:37.657006</td>\n",
       "      <td>Standard</td>\n",
       "      <td>14.99</td>\n",
       "      <td>Credit Card</td>\n",
       "      <td>60.244820</td>\n",
       "      <td>Action</td>\n",
       "      <td>TV</td>\n",
       "      <td>0.609503</td>\n",
       "      <td>1003</td>\n",
       "      <td>1</td>\n",
       "      <td>0</td>\n",
       "      <td>NaN</td>\n",
       "      <td>NaN</td>\n",
       "    </tr>\n",
       "    <tr>\n",
       "      <th>4</th>\n",
       "      <td>5</td>\n",
       "      <td>60</td>\n",
       "      <td>Female</td>\n",
       "      <td>North</td>\n",
       "      <td>2020-03-13 01:53:37.657017</td>\n",
       "      <td>Standard</td>\n",
       "      <td>14.99</td>\n",
       "      <td>Credit Card</td>\n",
       "      <td>4.711855</td>\n",
       "      <td>Sci-Fi</td>\n",
       "      <td>Mobile</td>\n",
       "      <td>0.359971</td>\n",
       "      <td>1012</td>\n",
       "      <td>4</td>\n",
       "      <td>0</td>\n",
       "      <td>NaN</td>\n",
       "      <td>NaN</td>\n",
       "    </tr>\n",
       "  </tbody>\n",
       "</table>\n",
       "</div>"
      ],
      "text/plain": [
       "   User_ID  Age  Gender Location     Subscription_Start_Date  \\\n",
       "0        1   56   Other  Central  2020-06-07 01:53:37.656934   \n",
       "1        2   69   Other     West  2024-02-21 01:53:37.656980   \n",
       "2        3   46  Female    North  2022-10-06 01:53:37.656995   \n",
       "3        4   32  Female     East  2022-01-04 01:53:37.657006   \n",
       "4        5   60  Female    North  2020-03-13 01:53:37.657017   \n",
       "\n",
       "  Subscription_Type  Monthly_Payment Payment_Method  Monthly_Hours_Watched  \\\n",
       "0           Premium            19.99    Credit Card              31.513153   \n",
       "1          Standard            14.99    Credit Card               4.982277   \n",
       "2          Standard            14.99         PayPal               4.114953   \n",
       "3          Standard            14.99    Credit Card              60.244820   \n",
       "4          Standard            14.99    Credit Card               4.711855   \n",
       "\n",
       "  Favorite_Genre Devices_Used  Average_Session_Length  Content_ID  \\\n",
       "0         Action           PC                1.195762        1023   \n",
       "1          Drama           PC                0.809002        1076   \n",
       "2         Sci-Fi       Tablet                1.153570        1095   \n",
       "3         Action           TV                0.609503        1003   \n",
       "4         Sci-Fi       Mobile                0.359971        1012   \n",
       "\n",
       "   Rating_Given  Churned Date_of_Churn Reason_for_Churn  \n",
       "0             5        0           NaN              NaN  \n",
       "1             1        0           NaN              NaN  \n",
       "2             2        0           NaN              NaN  \n",
       "3             1        0           NaN              NaN  \n",
       "4             4        0           NaN              NaN  "
      ]
     },
     "execution_count": 12,
     "metadata": {},
     "output_type": "execute_result"
    }
   ],
   "source": [
    "# printing the first five rows of the Streamflow dataset.\n",
    "df.head()"
   ]
  },
  {
   "cell_type": "code",
   "execution_count": 13,
   "metadata": {},
   "outputs": [
    {
     "data": {
      "text/plain": [
       "(1000, 17)"
      ]
     },
     "execution_count": 13,
     "metadata": {},
     "output_type": "execute_result"
    }
   ],
   "source": [
    "# determining how many rows and columns there are\n",
    "df.shape"
   ]
  },
  {
   "cell_type": "code",
   "execution_count": 15,
   "metadata": {},
   "outputs": [
    {
     "data": {
      "text/html": [
       "<div>\n",
       "<style scoped>\n",
       "    .dataframe tbody tr th:only-of-type {\n",
       "        vertical-align: middle;\n",
       "    }\n",
       "\n",
       "    .dataframe tbody tr th {\n",
       "        vertical-align: top;\n",
       "    }\n",
       "\n",
       "    .dataframe thead th {\n",
       "        text-align: right;\n",
       "    }\n",
       "</style>\n",
       "<table border=\"1\" class=\"dataframe\">\n",
       "  <thead>\n",
       "    <tr style=\"text-align: right;\">\n",
       "      <th></th>\n",
       "      <th>User_ID</th>\n",
       "      <th>Age</th>\n",
       "      <th>Monthly_Payment</th>\n",
       "      <th>Monthly_Hours_Watched</th>\n",
       "      <th>Average_Session_Length</th>\n",
       "      <th>Content_ID</th>\n",
       "      <th>Rating_Given</th>\n",
       "      <th>Churned</th>\n",
       "    </tr>\n",
       "  </thead>\n",
       "  <tbody>\n",
       "    <tr>\n",
       "      <th>count</th>\n",
       "      <td>1000.000000</td>\n",
       "      <td>1000.000000</td>\n",
       "      <td>1000.000000</td>\n",
       "      <td>1000.000000</td>\n",
       "      <td>1000.000000</td>\n",
       "      <td>1000.000000</td>\n",
       "      <td>1000.000000</td>\n",
       "      <td>1000.000000</td>\n",
       "    </tr>\n",
       "    <tr>\n",
       "      <th>mean</th>\n",
       "      <td>500.500000</td>\n",
       "      <td>44.385000</td>\n",
       "      <td>14.580000</td>\n",
       "      <td>19.071653</td>\n",
       "      <td>1.893771</td>\n",
       "      <td>1049.201000</td>\n",
       "      <td>3.030000</td>\n",
       "      <td>0.246000</td>\n",
       "    </tr>\n",
       "    <tr>\n",
       "      <th>std</th>\n",
       "      <td>288.819436</td>\n",
       "      <td>15.321669</td>\n",
       "      <td>3.404922</td>\n",
       "      <td>19.279140</td>\n",
       "      <td>1.868852</td>\n",
       "      <td>29.268058</td>\n",
       "      <td>1.422365</td>\n",
       "      <td>0.430894</td>\n",
       "    </tr>\n",
       "    <tr>\n",
       "      <th>min</th>\n",
       "      <td>1.000000</td>\n",
       "      <td>18.000000</td>\n",
       "      <td>9.990000</td>\n",
       "      <td>0.041574</td>\n",
       "      <td>0.000486</td>\n",
       "      <td>1000.000000</td>\n",
       "      <td>1.000000</td>\n",
       "      <td>0.000000</td>\n",
       "    </tr>\n",
       "    <tr>\n",
       "      <th>25%</th>\n",
       "      <td>250.750000</td>\n",
       "      <td>31.750000</td>\n",
       "      <td>9.990000</td>\n",
       "      <td>5.490739</td>\n",
       "      <td>0.548918</td>\n",
       "      <td>1023.000000</td>\n",
       "      <td>2.000000</td>\n",
       "      <td>0.000000</td>\n",
       "    </tr>\n",
       "    <tr>\n",
       "      <th>50%</th>\n",
       "      <td>500.500000</td>\n",
       "      <td>45.000000</td>\n",
       "      <td>14.990000</td>\n",
       "      <td>13.361219</td>\n",
       "      <td>1.271808</td>\n",
       "      <td>1048.000000</td>\n",
       "      <td>3.000000</td>\n",
       "      <td>0.000000</td>\n",
       "    </tr>\n",
       "    <tr>\n",
       "      <th>75%</th>\n",
       "      <td>750.250000</td>\n",
       "      <td>57.000000</td>\n",
       "      <td>14.990000</td>\n",
       "      <td>26.471636</td>\n",
       "      <td>2.623575</td>\n",
       "      <td>1075.000000</td>\n",
       "      <td>4.000000</td>\n",
       "      <td>0.000000</td>\n",
       "    </tr>\n",
       "    <tr>\n",
       "      <th>max</th>\n",
       "      <td>1000.000000</td>\n",
       "      <td>70.000000</td>\n",
       "      <td>19.990000</td>\n",
       "      <td>139.170408</td>\n",
       "      <td>11.417557</td>\n",
       "      <td>1099.000000</td>\n",
       "      <td>5.000000</td>\n",
       "      <td>1.000000</td>\n",
       "    </tr>\n",
       "  </tbody>\n",
       "</table>\n",
       "</div>"
      ],
      "text/plain": [
       "           User_ID          Age  Monthly_Payment  Monthly_Hours_Watched  \\\n",
       "count  1000.000000  1000.000000      1000.000000            1000.000000   \n",
       "mean    500.500000    44.385000        14.580000              19.071653   \n",
       "std     288.819436    15.321669         3.404922              19.279140   \n",
       "min       1.000000    18.000000         9.990000               0.041574   \n",
       "25%     250.750000    31.750000         9.990000               5.490739   \n",
       "50%     500.500000    45.000000        14.990000              13.361219   \n",
       "75%     750.250000    57.000000        14.990000              26.471636   \n",
       "max    1000.000000    70.000000        19.990000             139.170408   \n",
       "\n",
       "       Average_Session_Length   Content_ID  Rating_Given      Churned  \n",
       "count             1000.000000  1000.000000   1000.000000  1000.000000  \n",
       "mean                 1.893771  1049.201000      3.030000     0.246000  \n",
       "std                  1.868852    29.268058      1.422365     0.430894  \n",
       "min                  0.000486  1000.000000      1.000000     0.000000  \n",
       "25%                  0.548918  1023.000000      2.000000     0.000000  \n",
       "50%                  1.271808  1048.000000      3.000000     0.000000  \n",
       "75%                  2.623575  1075.000000      4.000000     0.000000  \n",
       "max                 11.417557  1099.000000      5.000000     1.000000  "
      ]
     },
     "execution_count": 15,
     "metadata": {},
     "output_type": "execute_result"
    }
   ],
   "source": [
    "# displaying different values of numeric data types\n",
    "df.describe()"
   ]
  },
  {
   "cell_type": "code",
   "execution_count": 17,
   "metadata": {},
   "outputs": [
    {
     "name": "stdout",
     "output_type": "stream",
     "text": [
      "<class 'pandas.core.frame.DataFrame'>\n",
      "RangeIndex: 1000 entries, 0 to 999\n",
      "Data columns (total 17 columns):\n",
      " #   Column                   Non-Null Count  Dtype  \n",
      "---  ------                   --------------  -----  \n",
      " 0   User_ID                  1000 non-null   int64  \n",
      " 1   Age                      1000 non-null   int64  \n",
      " 2   Gender                   1000 non-null   object \n",
      " 3   Location                 1000 non-null   object \n",
      " 4   Subscription_Start_Date  1000 non-null   object \n",
      " 5   Subscription_Type        1000 non-null   object \n",
      " 6   Monthly_Payment          1000 non-null   float64\n",
      " 7   Payment_Method           1000 non-null   object \n",
      " 8   Monthly_Hours_Watched    1000 non-null   float64\n",
      " 9   Favorite_Genre           1000 non-null   object \n",
      " 10  Devices_Used             1000 non-null   object \n",
      " 11  Average_Session_Length   1000 non-null   float64\n",
      " 12  Content_ID               1000 non-null   int64  \n",
      " 13  Rating_Given             1000 non-null   int64  \n",
      " 14  Churned                  1000 non-null   int64  \n",
      " 15  Date_of_Churn            246 non-null    object \n",
      " 16  Reason_for_Churn         246 non-null    object \n",
      "dtypes: float64(3), int64(5), object(9)\n",
      "memory usage: 132.9+ KB\n"
     ]
    }
   ],
   "source": [
    "# display more information about the data\n",
    "df.info()"
   ]
  },
  {
   "cell_type": "code",
   "execution_count": 18,
   "metadata": {},
   "outputs": [
    {
     "data": {
      "text/plain": [
       "<Axes: xlabel='Age', ylabel='Count'>"
      ]
     },
     "execution_count": 18,
     "metadata": {},
     "output_type": "execute_result"
    },
    {
     "data": {
      "image/png": "[encoded data removed]",
      "text/plain": [
       "<Figure size 640x480 with 1 Axes>"
      ]
     },
     "metadata": {},
     "output_type": "display_data"
    }
   ],
   "source": [
    "# to understand the ouput itself (Seaborn)\n",
    "sns.histplot(df['Age'])"
   ]
  },
  {
   "cell_type": "code",
   "execution_count": 22,
   "metadata": {},
   "outputs": [
    {
     "data": {
      "text/plain": [
       "<Axes: xlabel='Monthly_Hours_Watched', ylabel='Count'>"
      ]
     },
     "execution_count": 22,
     "metadata": {},
     "output_type": "execute_result"
    },
    {
     "data": {
      "image/png": "[encoded data removed]",
      "text/plain": [
       "<Figure size 640x480 with 1 Axes>"
      ]
     },
     "metadata": {},
     "output_type": "display_data"
    }
   ],
   "source": [
    "# the graph shows that age is fairly dispersed: top subscribers are 20's, 40's-50's, and 65+; lowest subsciber groups are 25-35 and 50-60.\n",
    "\n",
    "# graphical representation for hours watched\n",
    "sns.histplot(df['Monthly_Hours_Watched'])"
   ]
  },
  {
   "cell_type": "code",
   "execution_count": 23,
   "metadata": {},
   "outputs": [
    {
     "data": {
      "text/plain": [
       "<Axes: xlabel='Devices_Used', ylabel='Count'>"
      ]
     },
     "execution_count": 23,
     "metadata": {},
     "output_type": "execute_result"
    },
    {
     "data": {
      "image/png": "[encoded data removed]",
      "text/plain": [
       "<Figure size 640x480 with 1 Axes>"
      ]
     },
     "metadata": {},
     "output_type": "display_data"
    }
   ],
   "source": [
    "# graphical representation for devices used\n",
    "sns.histplot(df['Devices_Used'])"
   ]
  },
  {
   "cell_type": "code",
   "execution_count": null,
   "metadata": {},
   "outputs": [],
   "source": []
  }
 ],
 "metadata": {
  "kernelspec": {
   "display_name": "Python 3",
   "language": "python",
   "name": "python3"
  },
  "language_info": {
   "codemirror_mode": {
    "name": "ipython",
    "version": 3
   },
   "file_extension": ".py",
   "mimetype": "text/x-python",
   "name": "python",
   "nbconvert_exporter": "python",
   "pygments_lexer": "ipython3",
   "version": "3.12.3"
  }
 },
 "nbformat": 4,
 "nbformat_minor": 2
}
